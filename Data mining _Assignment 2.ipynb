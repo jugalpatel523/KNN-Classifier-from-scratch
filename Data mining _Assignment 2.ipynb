{
 "cells": [
  {
   "cell_type": "code",
   "execution_count": 117,
   "metadata": {},
   "outputs": [],
   "source": [
    "import numpy as np \n",
    "import operator\n",
    "from collections import Counter\n",
    "import matplotlib.pyplot as plt\n",
    "import random as ran\n",
    "from sklearn.metrics.pairwise import cosine_similarity\n",
    "import pandas as pd \n",
    "from csv import reader\n",
    "\n",
    "\n",
    "# All functions are defined here\n",
    "\n",
    "\n",
    "# prepare our data for use\n",
    "def convert_raw_data():\n",
    "    with open(\"iris.data\", \"r\") as f:\n",
    "    \n",
    "        iris_dataset = list(reader(f))\n",
    "\n",
    "        iris_dataset.pop(-1)\n",
    "        for row in iris_dataset:\n",
    "            for i in range(4):\n",
    "              row[i] = float(row[i].strip())\n",
    "            \n",
    "        f.close()\n",
    "        \n",
    "    return iris_dataset\n",
    "\n",
    "# assigns iris class \n",
    "def class_assign(data):\n",
    "    class_values = [row[4] for row in data]\n",
    "    classes = dict()\n",
    "    for i, value in enumerate(set(class_values)):\n",
    "        classes[value] = i\n",
    "    for row in data:\n",
    "        row[4] = classes[row[4]]\n",
    "\n",
    "    return data,classes\n",
    "\n",
    "# to split our data in some ratio eg=0.7\n",
    "def split_data(data, n):\n",
    "    ran.shuffle(data)\n",
    "    \n",
    "    dev_data = data[:int(n*len(data))]\n",
    "    test_data = data[int(n*len(data)):]\n",
    "    \n",
    "    return dev_data,test_data\n",
    "\n",
    "# euclidian distance calculation\n",
    "def e_dist(r1, r2):\n",
    "    e_dist = 0.0\n",
    "    for i in range(len(r1)-1):\n",
    "        e_dist += (r1[i] - r2[i])**2\n",
    "    \n",
    "    return e_dist**(0.5)\n",
    "\n",
    "# normalized euclidian distance calculation\n",
    "def ne_dist(r1, r2):\n",
    "    ne_dist = 0.0\n",
    "    for i in range(len(r1)-1):\n",
    "        mean = (r1[i] - r2[i])/2\n",
    "        denom = (r1[i] - mean) ** 2 + (r2[i] - mean) ** 2\n",
    "        \n",
    "        if(denom != 0):\n",
    "            ne_dist += ((r1[i] - r2[i])**2 / denom)\n",
    "        else:\n",
    "            ne_dist = 0\n",
    "            \n",
    "    return ne_dist**(0.5)\n",
    "\n",
    "# cosine distance calculation\n",
    "def cos_dist(r1, r2):\n",
    "    mul_val = 0.0\n",
    "    r1_dist = 0.0\n",
    "    r2_dist = 0.0\n",
    "    \n",
    "    for i in range(len(r1)-1):\n",
    "        mul_val += r1[i] * r2[i]\n",
    "        r1_dist += r1[i] * r1[i]\n",
    "        \n",
    "    for i in range(len(r2)-1):\n",
    "        r2_dist += r2[i] * r2[i]\n",
    "        \n",
    "    cos_dist = mul_val/((r1_dist * r2_dist)**(0.5))\n",
    "    return ( 1- cos_dist)\n",
    "\n",
    "# kNN implementation\n",
    "def kNN(data, k, d_method):\n",
    "    result = []\n",
    "    total_corr = 0\n",
    "    \n",
    "    for d in data:\n",
    "        new = data.copy()\n",
    "        new.remove(d)\n",
    "        \n",
    "        dists = list()\n",
    "        for row in new:\n",
    "            dist = d_method(d, row)\n",
    "            dists.append((row, dist))\n",
    "        dists.sort(key = operator.itemgetter(1))\n",
    "        nbrs = []\n",
    "        for i in range(k):\n",
    "            nbrs.append(dists[i][0])\n",
    "            \n",
    "        '''correct = {}\n",
    "        for n in nbrs:\n",
    "            label = n[-1]\n",
    "            if label in correct:\n",
    "                correct[label] += 1\n",
    "            else:\n",
    "                correct[label] = 1\n",
    "        correct_sorted = sorted(correct.items(), key = operator.itemgetter(1), reverse = True)\n",
    "        if correct_sorted[0][0] == d[-1]:\n",
    "            total_corr += 1'''\n",
    "        \n",
    "        nbrs_list = list()\n",
    "        for n in nbrs:\n",
    "            nbrs_list.append(n[-1])\n",
    "        nbrs_list_count = Counter(nbrs_list)\n",
    "        prediction = nbrs_list_count.most_common(1)[0][0]\n",
    "        if prediction == d[-1]:\n",
    "            total_corr += 1\n",
    "        \n",
    "    accuracy = (total_corr/len(data))*100   \n",
    "    print(f\"Correctly identified result for {k}: {total_corr} AND accuracy is {accuracy}%\")\n",
    "    return total_corr, accuracy"
   ]
  },
  {
   "cell_type": "code",
   "execution_count": 118,
   "metadata": {},
   "outputs": [],
   "source": [
    "# TASK -- A\n",
    "# converting and splitting our dataset using defined functions\n",
    "\n",
    "X = convert_raw_data()\n",
    "X,y = class_assign(X)\n",
    "dev,test = split_data(X, 0.7)"
   ]
  },
  {
   "cell_type": "code",
   "execution_count": 119,
   "metadata": {},
   "outputs": [
    {
     "name": "stdout",
     "output_type": "stream",
     "text": [
      "{'Iris-virginica': 0, 'Iris-setosa': 1, 'Iris-versicolor': 2}\n"
     ]
    }
   ],
   "source": [
    "print(y)"
   ]
  },
  {
   "cell_type": "code",
   "execution_count": 120,
   "metadata": {},
   "outputs": [
    {
     "name": "stdout",
     "output_type": "stream",
     "text": [
      "[6.4, 3.2, 5.3, 2.3, 0]\n",
      "[6.3, 3.3, 6.0, 2.5, 0]\n",
      "[5.7, 3.0, 4.2, 1.2, 2]\n",
      "[6.7, 3.0, 5.0, 1.7, 2]\n",
      "[6.7, 3.0, 5.2, 2.3, 0]\n",
      "[6.5, 2.8, 4.6, 1.5, 2]\n",
      "[6.7, 3.3, 5.7, 2.1, 0]\n",
      "[6.7, 2.5, 5.8, 1.8, 0]\n",
      "[5.0, 3.2, 1.2, 0.2, 1]\n",
      "[5.5, 2.5, 4.0, 1.3, 2]\n",
      "[4.3, 3.0, 1.1, 0.1, 1]\n",
      "[6.6, 3.0, 4.4, 1.4, 2]\n",
      "[4.8, 3.0, 1.4, 0.3, 1]\n",
      "[5.0, 2.0, 3.5, 1.0, 2]\n",
      "[5.7, 2.9, 4.2, 1.3, 2]\n",
      "[5.0, 3.6, 1.4, 0.2, 1]\n",
      "[4.4, 2.9, 1.4, 0.2, 1]\n",
      "[7.3, 2.9, 6.3, 1.8, 0]\n",
      "[5.7, 4.4, 1.5, 0.4, 1]\n",
      "[5.9, 3.0, 5.1, 1.8, 0]\n",
      "[5.7, 2.5, 5.0, 2.0, 0]\n",
      "[6.4, 2.9, 4.3, 1.3, 2]\n",
      "[5.0, 3.3, 1.4, 0.2, 1]\n",
      "[5.2, 3.5, 1.5, 0.2, 1]\n",
      "[4.9, 2.5, 4.5, 1.7, 0]\n",
      "[6.3, 3.4, 5.6, 2.4, 0]\n",
      "[4.6, 3.1, 1.5, 0.2, 1]\n",
      "[5.7, 3.8, 1.7, 0.3, 1]\n",
      "[6.0, 2.9, 4.5, 1.5, 2]\n",
      "[5.8, 4.0, 1.2, 0.2, 1]\n",
      "[4.5, 2.3, 1.3, 0.3, 1]\n",
      "[6.4, 2.8, 5.6, 2.1, 0]\n",
      "[7.7, 3.0, 6.1, 2.3, 0]\n",
      "[5.4, 3.4, 1.7, 0.2, 1]\n",
      "[4.9, 3.1, 1.5, 0.1, 1]\n",
      "[6.4, 3.2, 4.5, 1.5, 2]\n",
      "[5.8, 2.7, 5.1, 1.9, 0]\n",
      "[5.7, 2.8, 4.5, 1.3, 2]\n",
      "[7.1, 3.0, 5.9, 2.1, 0]\n",
      "[5.5, 2.3, 4.0, 1.3, 2]\n",
      "[5.1, 3.8, 1.6, 0.2, 1]\n",
      "[6.5, 3.2, 5.1, 2.0, 0]\n",
      "[5.6, 3.0, 4.5, 1.5, 2]\n",
      "[6.1, 3.0, 4.9, 1.8, 0]\n",
      "[5.1, 3.5, 1.4, 0.3, 1]\n",
      "[4.9, 3.0, 1.4, 0.2, 1]\n",
      "[7.7, 2.8, 6.7, 2.0, 0]\n",
      "[5.0, 3.4, 1.6, 0.4, 1]\n",
      "[5.1, 3.5, 1.4, 0.2, 1]\n",
      "[4.6, 3.2, 1.4, 0.2, 1]\n",
      "[5.6, 2.7, 4.2, 1.3, 2]\n",
      "[5.5, 4.2, 1.4, 0.2, 1]\n",
      "[6.2, 2.2, 4.5, 1.5, 2]\n",
      "[6.1, 2.8, 4.7, 1.2, 2]\n",
      "[6.9, 3.1, 4.9, 1.5, 2]\n",
      "[6.7, 3.1, 4.4, 1.4, 2]\n",
      "[6.8, 2.8, 4.8, 1.4, 2]\n",
      "[7.9, 3.8, 6.4, 2.0, 0]\n",
      "[7.4, 2.8, 6.1, 1.9, 0]\n",
      "[6.4, 2.7, 5.3, 1.9, 0]\n",
      "[5.2, 3.4, 1.4, 0.2, 1]\n",
      "[5.4, 3.9, 1.7, 0.4, 1]\n",
      "[5.1, 3.3, 1.7, 0.5, 1]\n",
      "[6.7, 3.1, 5.6, 2.4, 0]\n",
      "[5.1, 3.4, 1.5, 0.2, 1]\n",
      "[6.3, 2.3, 4.4, 1.3, 2]\n",
      "[5.5, 3.5, 1.3, 0.2, 1]\n",
      "[4.9, 3.1, 1.5, 0.1, 1]\n",
      "[6.3, 2.9, 5.6, 1.8, 0]\n",
      "[5.8, 2.7, 3.9, 1.2, 2]\n",
      "[7.2, 3.0, 5.8, 1.6, 0]\n",
      "[6.1, 2.6, 5.6, 1.4, 0]\n",
      "[5.4, 3.7, 1.5, 0.2, 1]\n",
      "[5.5, 2.4, 3.8, 1.1, 2]\n",
      "[5.0, 3.0, 1.6, 0.2, 1]\n",
      "[6.0, 2.2, 4.0, 1.0, 2]\n",
      "[5.4, 3.9, 1.3, 0.4, 1]\n",
      "[5.4, 3.0, 4.5, 1.5, 2]\n",
      "[6.4, 3.1, 5.5, 1.8, 0]\n",
      "[6.9, 3.1, 5.1, 2.3, 0]\n",
      "[5.9, 3.2, 4.8, 1.8, 2]\n",
      "[5.1, 3.7, 1.5, 0.4, 1]\n",
      "[5.0, 3.5, 1.6, 0.6, 1]\n",
      "[7.2, 3.6, 6.1, 2.5, 0]\n",
      "[6.0, 2.7, 5.1, 1.6, 2]\n",
      "[6.5, 3.0, 5.8, 2.2, 0]\n",
      "[5.6, 2.5, 3.9, 1.1, 2]\n",
      "[5.0, 3.5, 1.3, 0.3, 1]\n",
      "[5.8, 2.6, 4.0, 1.2, 2]\n",
      "[7.2, 3.2, 6.0, 1.8, 0]\n",
      "[5.8, 2.7, 4.1, 1.0, 2]\n",
      "[7.7, 3.8, 6.7, 2.2, 0]\n",
      "[5.1, 3.8, 1.9, 0.4, 1]\n",
      "[4.6, 3.6, 1.0, 0.2, 1]\n",
      "[5.6, 2.8, 4.9, 2.0, 0]\n",
      "[5.8, 2.7, 5.1, 1.9, 0]\n",
      "[6.0, 3.0, 4.8, 1.8, 0]\n",
      "[4.8, 3.0, 1.4, 0.1, 1]\n",
      "[6.1, 3.0, 4.6, 1.4, 2]\n",
      "[6.3, 2.8, 5.1, 1.5, 0]\n",
      "[4.6, 3.4, 1.4, 0.3, 1]\n",
      "[6.7, 3.1, 4.7, 1.5, 2]\n",
      "[7.0, 3.2, 4.7, 1.4, 2]\n",
      "[6.0, 2.2, 5.0, 1.5, 0]\n",
      "[5.5, 2.6, 4.4, 1.2, 2]\n",
      "[6.3, 3.3, 4.7, 1.6, 2]\n",
      "[6.2, 2.8, 4.8, 1.8, 0]\n",
      "[6.7, 3.3, 5.7, 2.5, 0]\n",
      "[4.8, 3.1, 1.6, 0.2, 1]\n",
      "[4.9, 3.1, 1.5, 0.1, 1]\n",
      "[5.1, 2.5, 3.0, 1.1, 2]\n",
      "[4.8, 3.4, 1.6, 0.2, 1]\n",
      "[5.3, 3.7, 1.5, 0.2, 1]\n",
      "[7.7, 2.6, 6.9, 2.3, 0]\n",
      "[5.6, 2.9, 3.6, 1.3, 2]\n",
      "[6.8, 3.2, 5.9, 2.3, 0]\n",
      "[5.0, 3.4, 1.5, 0.2, 1]\n",
      "[6.9, 3.2, 5.7, 2.3, 0]\n",
      "[5.1, 3.8, 1.5, 0.3, 1]\n",
      "[6.2, 2.9, 4.3, 1.3, 2]\n",
      "[6.2, 3.4, 5.4, 2.3, 0]\n",
      "[4.4, 3.0, 1.3, 0.2, 1]\n",
      "[4.4, 3.2, 1.3, 0.2, 1]\n",
      "[6.8, 3.0, 5.5, 2.1, 0]\n",
      "[6.4, 2.8, 5.6, 2.2, 0]\n",
      "[6.1, 2.8, 4.0, 1.3, 2]\n",
      "[6.6, 2.9, 4.6, 1.3, 2]\n",
      "[5.9, 3.0, 4.2, 1.5, 2]\n",
      "[4.7, 3.2, 1.3, 0.2, 1]\n",
      "[6.3, 2.5, 4.9, 1.5, 2]\n",
      "[6.3, 2.5, 5.0, 1.9, 0]\n",
      "[5.6, 3.0, 4.1, 1.3, 2]\n",
      "[4.8, 3.4, 1.9, 0.2, 1]\n",
      "[5.8, 2.8, 5.1, 2.4, 0]\n",
      "[5.7, 2.6, 3.5, 1.0, 2]\n",
      "[5.4, 3.4, 1.5, 0.4, 1]\n",
      "[4.9, 2.4, 3.3, 1.0, 2]\n",
      "[6.3, 2.7, 4.9, 1.8, 0]\n",
      "[6.9, 3.1, 5.4, 2.1, 0]\n",
      "[5.2, 4.1, 1.5, 0.1, 1]\n",
      "[7.6, 3.0, 6.6, 2.1, 0]\n",
      "[5.2, 2.7, 3.9, 1.4, 2]\n",
      "[6.5, 3.0, 5.2, 2.0, 0]\n",
      "[6.1, 2.9, 4.7, 1.4, 2]\n",
      "[5.5, 2.4, 3.7, 1.0, 2]\n",
      "[5.7, 2.8, 4.1, 1.3, 2]\n",
      "[6.0, 3.4, 4.5, 1.6, 2]\n",
      "[6.5, 3.0, 5.5, 1.8, 0]\n",
      "[4.7, 3.2, 1.6, 0.2, 1]\n",
      "[5.0, 2.3, 3.3, 1.0, 2]\n"
     ]
    }
   ],
   "source": [
    "for data in X:\n",
    "    print(data)"
   ]
  },
  {
   "cell_type": "code",
   "execution_count": 121,
   "metadata": {},
   "outputs": [
    {
     "data": {
      "text/plain": [
       "105"
      ]
     },
     "execution_count": 121,
     "metadata": {},
     "output_type": "execute_result"
    }
   ],
   "source": [
    "len(dev)"
   ]
  },
  {
   "cell_type": "code",
   "execution_count": 122,
   "metadata": {},
   "outputs": [
    {
     "name": "stdout",
     "output_type": "stream",
     "text": [
      "[6.4, 3.2, 5.3, 2.3, 0]\n",
      "[6.3, 3.3, 6.0, 2.5, 0]\n",
      "[5.7, 3.0, 4.2, 1.2, 2]\n",
      "[6.7, 3.0, 5.0, 1.7, 2]\n",
      "[6.7, 3.0, 5.2, 2.3, 0]\n",
      "[6.5, 2.8, 4.6, 1.5, 2]\n",
      "[6.7, 3.3, 5.7, 2.1, 0]\n",
      "[6.7, 2.5, 5.8, 1.8, 0]\n",
      "[5.0, 3.2, 1.2, 0.2, 1]\n",
      "[5.5, 2.5, 4.0, 1.3, 2]\n",
      "[4.3, 3.0, 1.1, 0.1, 1]\n",
      "[6.6, 3.0, 4.4, 1.4, 2]\n",
      "[4.8, 3.0, 1.4, 0.3, 1]\n",
      "[5.0, 2.0, 3.5, 1.0, 2]\n",
      "[5.7, 2.9, 4.2, 1.3, 2]\n",
      "[5.0, 3.6, 1.4, 0.2, 1]\n",
      "[4.4, 2.9, 1.4, 0.2, 1]\n",
      "[7.3, 2.9, 6.3, 1.8, 0]\n",
      "[5.7, 4.4, 1.5, 0.4, 1]\n",
      "[5.9, 3.0, 5.1, 1.8, 0]\n",
      "[5.7, 2.5, 5.0, 2.0, 0]\n",
      "[6.4, 2.9, 4.3, 1.3, 2]\n",
      "[5.0, 3.3, 1.4, 0.2, 1]\n",
      "[5.2, 3.5, 1.5, 0.2, 1]\n",
      "[4.9, 2.5, 4.5, 1.7, 0]\n",
      "[6.3, 3.4, 5.6, 2.4, 0]\n",
      "[4.6, 3.1, 1.5, 0.2, 1]\n",
      "[5.7, 3.8, 1.7, 0.3, 1]\n",
      "[6.0, 2.9, 4.5, 1.5, 2]\n",
      "[5.8, 4.0, 1.2, 0.2, 1]\n",
      "[4.5, 2.3, 1.3, 0.3, 1]\n",
      "[6.4, 2.8, 5.6, 2.1, 0]\n",
      "[7.7, 3.0, 6.1, 2.3, 0]\n",
      "[5.4, 3.4, 1.7, 0.2, 1]\n",
      "[4.9, 3.1, 1.5, 0.1, 1]\n",
      "[6.4, 3.2, 4.5, 1.5, 2]\n",
      "[5.8, 2.7, 5.1, 1.9, 0]\n",
      "[5.7, 2.8, 4.5, 1.3, 2]\n",
      "[7.1, 3.0, 5.9, 2.1, 0]\n",
      "[5.5, 2.3, 4.0, 1.3, 2]\n",
      "[5.1, 3.8, 1.6, 0.2, 1]\n",
      "[6.5, 3.2, 5.1, 2.0, 0]\n",
      "[5.6, 3.0, 4.5, 1.5, 2]\n",
      "[6.1, 3.0, 4.9, 1.8, 0]\n",
      "[5.1, 3.5, 1.4, 0.3, 1]\n",
      "[4.9, 3.0, 1.4, 0.2, 1]\n",
      "[7.7, 2.8, 6.7, 2.0, 0]\n",
      "[5.0, 3.4, 1.6, 0.4, 1]\n",
      "[5.1, 3.5, 1.4, 0.2, 1]\n",
      "[4.6, 3.2, 1.4, 0.2, 1]\n",
      "[5.6, 2.7, 4.2, 1.3, 2]\n",
      "[5.5, 4.2, 1.4, 0.2, 1]\n",
      "[6.2, 2.2, 4.5, 1.5, 2]\n",
      "[6.1, 2.8, 4.7, 1.2, 2]\n",
      "[6.9, 3.1, 4.9, 1.5, 2]\n",
      "[6.7, 3.1, 4.4, 1.4, 2]\n",
      "[6.8, 2.8, 4.8, 1.4, 2]\n",
      "[7.9, 3.8, 6.4, 2.0, 0]\n",
      "[7.4, 2.8, 6.1, 1.9, 0]\n",
      "[6.4, 2.7, 5.3, 1.9, 0]\n",
      "[5.2, 3.4, 1.4, 0.2, 1]\n",
      "[5.4, 3.9, 1.7, 0.4, 1]\n",
      "[5.1, 3.3, 1.7, 0.5, 1]\n",
      "[6.7, 3.1, 5.6, 2.4, 0]\n",
      "[5.1, 3.4, 1.5, 0.2, 1]\n",
      "[6.3, 2.3, 4.4, 1.3, 2]\n",
      "[5.5, 3.5, 1.3, 0.2, 1]\n",
      "[4.9, 3.1, 1.5, 0.1, 1]\n",
      "[6.3, 2.9, 5.6, 1.8, 0]\n",
      "[5.8, 2.7, 3.9, 1.2, 2]\n",
      "[7.2, 3.0, 5.8, 1.6, 0]\n",
      "[6.1, 2.6, 5.6, 1.4, 0]\n",
      "[5.4, 3.7, 1.5, 0.2, 1]\n",
      "[5.5, 2.4, 3.8, 1.1, 2]\n",
      "[5.0, 3.0, 1.6, 0.2, 1]\n",
      "[6.0, 2.2, 4.0, 1.0, 2]\n",
      "[5.4, 3.9, 1.3, 0.4, 1]\n",
      "[5.4, 3.0, 4.5, 1.5, 2]\n",
      "[6.4, 3.1, 5.5, 1.8, 0]\n",
      "[6.9, 3.1, 5.1, 2.3, 0]\n",
      "[5.9, 3.2, 4.8, 1.8, 2]\n",
      "[5.1, 3.7, 1.5, 0.4, 1]\n",
      "[5.0, 3.5, 1.6, 0.6, 1]\n",
      "[7.2, 3.6, 6.1, 2.5, 0]\n",
      "[6.0, 2.7, 5.1, 1.6, 2]\n",
      "[6.5, 3.0, 5.8, 2.2, 0]\n",
      "[5.6, 2.5, 3.9, 1.1, 2]\n",
      "[5.0, 3.5, 1.3, 0.3, 1]\n",
      "[5.8, 2.6, 4.0, 1.2, 2]\n",
      "[7.2, 3.2, 6.0, 1.8, 0]\n",
      "[5.8, 2.7, 4.1, 1.0, 2]\n",
      "[7.7, 3.8, 6.7, 2.2, 0]\n",
      "[5.1, 3.8, 1.9, 0.4, 1]\n",
      "[4.6, 3.6, 1.0, 0.2, 1]\n",
      "[5.6, 2.8, 4.9, 2.0, 0]\n",
      "[5.8, 2.7, 5.1, 1.9, 0]\n",
      "[6.0, 3.0, 4.8, 1.8, 0]\n",
      "[4.8, 3.0, 1.4, 0.1, 1]\n",
      "[6.1, 3.0, 4.6, 1.4, 2]\n",
      "[6.3, 2.8, 5.1, 1.5, 0]\n",
      "[4.6, 3.4, 1.4, 0.3, 1]\n",
      "[6.7, 3.1, 4.7, 1.5, 2]\n",
      "[7.0, 3.2, 4.7, 1.4, 2]\n",
      "[6.0, 2.2, 5.0, 1.5, 0]\n",
      "[5.5, 2.6, 4.4, 1.2, 2]\n"
     ]
    }
   ],
   "source": [
    "for data in dev:\n",
    "    print(data)"
   ]
  },
  {
   "cell_type": "code",
   "execution_count": 123,
   "metadata": {},
   "outputs": [
    {
     "data": {
      "text/plain": [
       "45"
      ]
     },
     "execution_count": 123,
     "metadata": {},
     "output_type": "execute_result"
    }
   ],
   "source": [
    "len(test)"
   ]
  },
  {
   "cell_type": "code",
   "execution_count": 124,
   "metadata": {},
   "outputs": [
    {
     "name": "stdout",
     "output_type": "stream",
     "text": [
      "[6.3, 3.3, 4.7, 1.6, 2]\n",
      "[6.2, 2.8, 4.8, 1.8, 0]\n",
      "[6.7, 3.3, 5.7, 2.5, 0]\n",
      "[4.8, 3.1, 1.6, 0.2, 1]\n",
      "[4.9, 3.1, 1.5, 0.1, 1]\n",
      "[5.1, 2.5, 3.0, 1.1, 2]\n",
      "[4.8, 3.4, 1.6, 0.2, 1]\n",
      "[5.3, 3.7, 1.5, 0.2, 1]\n",
      "[7.7, 2.6, 6.9, 2.3, 0]\n",
      "[5.6, 2.9, 3.6, 1.3, 2]\n",
      "[6.8, 3.2, 5.9, 2.3, 0]\n",
      "[5.0, 3.4, 1.5, 0.2, 1]\n",
      "[6.9, 3.2, 5.7, 2.3, 0]\n",
      "[5.1, 3.8, 1.5, 0.3, 1]\n",
      "[6.2, 2.9, 4.3, 1.3, 2]\n",
      "[6.2, 3.4, 5.4, 2.3, 0]\n",
      "[4.4, 3.0, 1.3, 0.2, 1]\n",
      "[4.4, 3.2, 1.3, 0.2, 1]\n",
      "[6.8, 3.0, 5.5, 2.1, 0]\n",
      "[6.4, 2.8, 5.6, 2.2, 0]\n",
      "[6.1, 2.8, 4.0, 1.3, 2]\n",
      "[6.6, 2.9, 4.6, 1.3, 2]\n",
      "[5.9, 3.0, 4.2, 1.5, 2]\n",
      "[4.7, 3.2, 1.3, 0.2, 1]\n",
      "[6.3, 2.5, 4.9, 1.5, 2]\n",
      "[6.3, 2.5, 5.0, 1.9, 0]\n",
      "[5.6, 3.0, 4.1, 1.3, 2]\n",
      "[4.8, 3.4, 1.9, 0.2, 1]\n",
      "[5.8, 2.8, 5.1, 2.4, 0]\n",
      "[5.7, 2.6, 3.5, 1.0, 2]\n",
      "[5.4, 3.4, 1.5, 0.4, 1]\n",
      "[4.9, 2.4, 3.3, 1.0, 2]\n",
      "[6.3, 2.7, 4.9, 1.8, 0]\n",
      "[6.9, 3.1, 5.4, 2.1, 0]\n",
      "[5.2, 4.1, 1.5, 0.1, 1]\n",
      "[7.6, 3.0, 6.6, 2.1, 0]\n",
      "[5.2, 2.7, 3.9, 1.4, 2]\n",
      "[6.5, 3.0, 5.2, 2.0, 0]\n",
      "[6.1, 2.9, 4.7, 1.4, 2]\n",
      "[5.5, 2.4, 3.7, 1.0, 2]\n",
      "[5.7, 2.8, 4.1, 1.3, 2]\n",
      "[6.0, 3.4, 4.5, 1.6, 2]\n",
      "[6.5, 3.0, 5.5, 1.8, 0]\n",
      "[4.7, 3.2, 1.6, 0.2, 1]\n",
      "[5.0, 2.3, 3.3, 1.0, 2]\n"
     ]
    }
   ],
   "source": [
    "for data in test:\n",
    "    print(data)"
   ]
  },
  {
   "cell_type": "code",
   "execution_count": 125,
   "metadata": {},
   "outputs": [
    {
     "data": {
      "text/plain": [
       "1.0"
      ]
     },
     "execution_count": 125,
     "metadata": {},
     "output_type": "execute_result"
    }
   ],
   "source": [
    "# TASK -- B\n",
    "# example for euclidian distance\n",
    "\n",
    "e_dist([1, 1], [2, 2])"
   ]
  },
  {
   "cell_type": "code",
   "execution_count": 126,
   "metadata": {},
   "outputs": [
    {
     "data": {
      "text/plain": [
       "0.5803432921972449"
      ]
     },
     "execution_count": 126,
     "metadata": {},
     "output_type": "execute_result"
    }
   ],
   "source": [
    "# TASK -- B\n",
    "# example for normalized euclidian distance\n",
    "\n",
    "ne_dist([1,2,3,4],[1,2,30,40])"
   ]
  },
  {
   "cell_type": "code",
   "execution_count": 127,
   "metadata": {},
   "outputs": [
    {
     "data": {
      "text/plain": [
       "0.057190958417936644"
      ]
     },
     "execution_count": 127,
     "metadata": {},
     "output_type": "execute_result"
    }
   ],
   "source": [
    "# TASK -- B\n",
    "# example for cosine distance\n",
    "\n",
    "cos_dist([1,2,1,2], [3,3,3,4])"
   ]
  },
  {
   "cell_type": "code",
   "execution_count": 128,
   "metadata": {},
   "outputs": [
    {
     "name": "stdout",
     "output_type": "stream",
     "text": [
      "RESULT FOR Euclidian neighbours\n",
      "Correctly identified result for 1: 100 AND accuracy is 95.23809523809523%\n",
      "Correctly identified result for 3: 101 AND accuracy is 96.19047619047619%\n",
      "Correctly identified result for 5: 101 AND accuracy is 96.19047619047619%\n",
      "Correctly identified result for 7: 100 AND accuracy is 95.23809523809523%\n",
      "\n",
      "\n"
     ]
    },
    {
     "data": {
      "image/png": "[encoded data removed]",
      "text/plain": [
       "<Figure size 432x288 with 1 Axes>"
      ]
     },
     "metadata": {
      "needs_background": "light"
     },
     "output_type": "display_data"
    },
    {
     "name": "stdout",
     "output_type": "stream",
     "text": [
      "RESULT FOR Normalized Euclidian neighbours\n",
      "Correctly identified result for 1: 99 AND accuracy is 94.28571428571428%\n",
      "Correctly identified result for 3: 99 AND accuracy is 94.28571428571428%\n",
      "Correctly identified result for 5: 100 AND accuracy is 95.23809523809523%\n",
      "Correctly identified result for 7: 100 AND accuracy is 95.23809523809523%\n",
      "\n",
      "\n"
     ]
    },
    {
     "data": {
      "image/png": "[encoded data removed]",
      "text/plain": [
       "<Figure size 432x288 with 1 Axes>"
      ]
     },
     "metadata": {
      "needs_background": "light"
     },
     "output_type": "display_data"
    },
    {
     "name": "stdout",
     "output_type": "stream",
     "text": [
      "RESULT FOR Cosine neighbours\n",
      "Correctly identified result for 1: 101 AND accuracy is 96.19047619047619%\n",
      "Correctly identified result for 3: 103 AND accuracy is 98.09523809523809%\n",
      "Correctly identified result for 5: 102 AND accuracy is 97.14285714285714%\n",
      "Correctly identified result for 7: 101 AND accuracy is 96.19047619047619%\n",
      "\n",
      "\n"
     ]
    },
    {
     "data": {
      "image/png": "[encoded data removed]",
      "text/plain": [
       "<Figure size 432x288 with 1 Axes>"
      ]
     },
     "metadata": {
      "needs_background": "light"
     },
     "output_type": "display_data"
    }
   ],
   "source": [
    "# TASK -- B && C\n",
    "# using kNN defined functions and..\n",
    "# finding accuracy and plotting bar chart\n",
    "\n",
    "K = [1, 3, 5, 7]\n",
    "methods = {e_dist: \"Euclidian \", ne_dist: \"Normalized Euclidian \", cos_dist: \"Cosine \"}\n",
    "accu_matrix = []\n",
    "for method in methods.keys():\n",
    "    accu_row = []\n",
    "    print(\"RESULT FOR \"+methods[method]+\"neighbours\")\n",
    "    for k in K:\n",
    "        res,acc = kNN(dev, k, method)\n",
    "        accu_row.append(acc) \n",
    "    accu_matrix.append(accu_row)\n",
    "    print(\"\\n\")\n",
    "    \n",
    "    plt.bar(K, accu_row, align='center', alpha=0.7, color='green')\n",
    "    plt.xticks(K)\n",
    "    plt.xlabel(\"K\")\n",
    "    plt.ylabel('Accuracy')\n",
    "    plt.title('Metric= '+methods[method])\n",
    "    plt.show()"
   ]
  },
  {
   "cell_type": "code",
   "execution_count": 129,
   "metadata": {},
   "outputs": [
    {
     "data": {
      "text/plain": [
       "[[95.23809523809523, 96.19047619047619, 96.19047619047619, 95.23809523809523],\n",
       " [94.28571428571428, 94.28571428571428, 95.23809523809523, 95.23809523809523],\n",
       " [96.19047619047619, 98.09523809523809, 97.14285714285714, 96.19047619047619]]"
      ]
     },
     "execution_count": 129,
     "metadata": {},
     "output_type": "execute_result"
    }
   ],
   "source": [
    "accu_matrix"
   ]
  },
  {
   "cell_type": "code",
   "execution_count": 130,
   "metadata": {},
   "outputs": [
    {
     "name": "stdout",
     "output_type": "stream",
     "text": [
      "Correctly identified result for 3: 44 AND accuracy is 97.77777777777777%\n"
     ]
    }
   ],
   "source": [
    "# TASK -- D\n",
    "# so our hyperparameter is k=3 for cosine neighbours\n",
    "\n",
    "res, final_acc = kNN(test, 3, cos_dist)"
   ]
  },
  {
   "cell_type": "code",
   "execution_count": 131,
   "metadata": {},
   "outputs": [
    {
     "data": {
      "text/plain": [
       "97.77777777777777"
      ]
     },
     "execution_count": 131,
     "metadata": {},
     "output_type": "execute_result"
    }
   ],
   "source": [
    "# TASK -- D\n",
    "#so the final accuracy is...\n",
    "\n",
    "final_acc"
   ]
  },
  {
   "cell_type": "code",
   "execution_count": null,
   "metadata": {},
   "outputs": [],
   "source": []
  }
 ],
 "metadata": {
  "kernelspec": {
   "display_name": "Python 3",
   "language": "python",
   "name": "python3"
  },
  "language_info": {
   "codemirror_mode": {
    "name": "ipython",
    "version": 3
   },
   "file_extension": ".py",
   "mimetype": "text/x-python",
   "name": "python",
   "nbconvert_exporter": "python",
   "pygments_lexer": "ipython3",
   "version": "3.7.4"
  }
 },
 "nbformat": 4,
 "nbformat_minor": 2
}
